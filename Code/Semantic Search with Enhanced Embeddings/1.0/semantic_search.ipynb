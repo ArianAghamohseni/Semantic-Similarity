{
 "cells": [
  {
   "cell_type": "code",
   "execution_count": 1,
   "metadata": {},
   "outputs": [],
   "source": [
    "import pandas as pd\n",
    "import json\n",
    "\n",
    "\n",
    "input_file_path = r\"D:\\Sharif University of Tech\\Data\\Library Recommender\\Pypi data\\OriginalItems.json\"\n",
    "with open(input_file_path, 'r', encoding='utf-8') as file:\n",
    "    data = json.load(file)\n",
    "\n",
    "\n",
    "data_df = pd.DataFrame(data)"
   ]
  },
  {
   "cell_type": "code",
   "execution_count": 2,
   "metadata": {},
   "outputs": [],
   "source": [
    "data_df['text'] = data_df['Summary'].str[0] + \" \" + data_df['Description'].str[0]\n",
    "data_df['text'] = data_df['text'].fillna('')"
   ]
  },
  {
   "cell_type": "markdown",
   "metadata": {},
   "source": [
    "Lets start Generating Embeddings for Library Descriptions"
   ]
  },
  {
   "cell_type": "code",
   "execution_count": 3,
   "metadata": {},
   "outputs": [],
   "source": [
    "from sentence_transformers import SentenceTransformer\n",
    "import numpy as np\n",
    "\n",
    "\n",
    "model = SentenceTransformer('all-MiniLM-L6-v2')\n",
    "embeddings = np.array(model.encode(data_df['text'].tolist()))\n",
    "data_df['embeddings'] = list(embeddings)"
   ]
  },
  {
   "cell_type": "markdown",
   "metadata": {},
   "source": [
    "Semantic Search Function"
   ]
  },
  {
   "cell_type": "code",
   "execution_count": 4,
   "metadata": {},
   "outputs": [],
   "source": [
    "from sklearn.metrics.pairwise import cosine_similarity\n",
    "\n",
    "def semantic_search(query, data_df, top_n=5):\n",
    "    query_embedding = model.encode([query])\n",
    "    similarities = cosine_similarity(query_embedding, np.array(list(data_df['embeddings'])))\n",
    "    top_n_indices = similarities[0].argsort()[-top_n:][::-1]\n",
    "    similar_libraries = data_df.iloc[top_n_indices]\n",
    "\n",
    "    return similar_libraries[['Package', 'Summary', 'Description']]"
   ]
  },
  {
   "cell_type": "markdown",
   "metadata": {},
   "source": [
    "Because we have a very large data set, we can use FAISS for Large Scale Efficiency"
   ]
  },
  {
   "cell_type": "code",
   "execution_count": 5,
   "metadata": {},
   "outputs": [],
   "source": [
    "import faiss\n",
    "\n",
    "\n",
    "embedding_matrix = np.array(list(data_df['embeddings'])).astype('float32')\n",
    "index = faiss.IndexFlatL2(embedding_matrix.shape[1])\n",
    "index.add(embedding_matrix)"
   ]
  },
  {
   "cell_type": "code",
   "execution_count": 6,
   "metadata": {},
   "outputs": [],
   "source": [
    "def semantic_search_faiss(query, data_df, top_n=5):\n",
    "    query_embedding = model.encode([query]).astype('float32')\n",
    "    _, top_n_indices = index.search(query_embedding, top_n)\n",
    "    similar_libraries = data_df.iloc[top_n_indices[0]]\n",
    "\n",
    "    return similar_libraries[['Package', 'Summary', 'Description']]"
   ]
  },
  {
   "cell_type": "markdown",
   "metadata": {},
   "source": [
    "Lets try it out :"
   ]
  },
  {
   "cell_type": "code",
   "execution_count": 7,
   "metadata": {},
   "outputs": [
    {
     "name": "stdout",
     "output_type": "stream",
     "text": [
      "                                      Package  \\\n",
      "5571                   [KraitUtilities 1.0.0]   \n",
      "2559              [ainwater-package-test 0.1]   \n",
      "5668                           [astetik 1.13]   \n",
      "4577                         [MetrPlot 0.0.4]   \n",
      "8747  [datasette-nteract-data-explorer 0.5.1]   \n",
      "\n",
      "                                                Summary  \\\n",
      "5571  [A package for data preprocessing and visualiz...   \n",
      "2559  [Graphics library for some uses in exploratory...   \n",
      "5668  [Astetik data visualization and reporting libr...   \n",
      "4577  [It is a Python library for build a very nice ...   \n",
      "8747     [automatic visual data explorer for datasette]   \n",
      "\n",
      "                                            Description  \n",
      "5571                                                 []  \n",
      "2559                                                 []  \n",
      "5668  [ astetik provides a very high level overlay o...  \n",
      "4577                                       [ MetrPlot ]  \n",
      "8747  [ datasette-nteract-data-explorer      An auto...  \n"
     ]
    }
   ],
   "source": [
    "query = \"data visualization library\"\n",
    "similar_libraries = semantic_search(query, data_df)\n",
    "print(similar_libraries)"
   ]
  }
 ],
 "metadata": {
  "kernelspec": {
   "display_name": "Python 3",
   "language": "python",
   "name": "python3"
  },
  "language_info": {
   "codemirror_mode": {
    "name": "ipython",
    "version": 3
   },
   "file_extension": ".py",
   "mimetype": "text/x-python",
   "name": "python",
   "nbconvert_exporter": "python",
   "pygments_lexer": "ipython3",
   "version": "3.11.7"
  }
 },
 "nbformat": 4,
 "nbformat_minor": 2
}
